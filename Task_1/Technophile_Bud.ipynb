{
  "nbformat": 4,
  "nbformat_minor": 0,
  "metadata": {
    "colab": {
      "name": " Technophile Bud",
      "provenance": [],
      "collapsed_sections": []
    },
    "kernelspec": {
      "name": "python3",
      "display_name": "Python 3"
    },
    "language_info": {
      "name": "python"
    }
  },
  "cells": [
    {
      "cell_type": "markdown",
      "metadata": {
        "id": "YoYB-fYJSsKi"
      },
      "source": [
        "# Technophile Bud\n",
        "## Task 1"
      ]
    },
    {
      "cell_type": "code",
      "metadata": {
        "colab": {
          "base_uri": "https://localhost:8080/"
        },
        "id": "pg8tPEGQ2Z1Y",
        "outputId": "78e8096d-c30e-4e42-8286-fffc65c743fe"
      },
      "source": [
        "# Shopping List App\n",
        "\n",
        "print(\"Welcome to Shopping App...\")\n",
        "\n",
        "print(\"Catagory of item we have are - \",\"\\n\",\"Beverages\",\"\\n\",\"Bread/Bakery \",\"\\n\",\n",
        "      \"Canned/Jarred Goods\",\"\\n\",\"Dairy\",\"\\n\",\"Dry/Baking Goods\",\"\\n\",\"Frozen Foods\",\"\\n\",\n",
        "      \"Meat\",\"\\n\",\"Produce\",\"\\n\",\"Cleaners\",\"\\n\",\"Paper Goods\",\"\\n\",\"Personal Care\",\"\\n\",\"Other\")\n",
        "\n",
        "Cat = [\"Beverages\",\"Bread/Bakery \",\"Canned/Jarred Goods\",\"Dairy\",\"Dry/Baking Goods\",\n",
        "      \"Frozen Foods\",\"Meat\",\"Produce\",\"Cleaners\",\"Paper Goods\",\"Personal Care\",\"Other\"]\n",
        "\n",
        "Shopping_list = []\n",
        "I = 0\n",
        "Want_to_Add = str(input(\"Want to add items to your Shopping List, If Yes type Y or N for No -> \"))\n",
        "\n",
        "if Want_to_Add.lower() == \"y\":\n",
        "  Categories = str(input(\"Which categories of item you want to add in the list -\"))\n",
        "  if Categories in Cat:\n",
        "    No_Item = int(input(\"How many Item u want to add -\"))\n",
        "    while I in range(No_Item):\n",
        "      Item = input(\"Enter Your Item you want to add -\")\n",
        "      I = I + 1\n",
        "      Shopping_list.append(Item)\n",
        "    print(\"Item u have add to\",Categories,\"Categories are :\")\n",
        "    Shopping_list.sort()\n",
        "    for K in Shopping_list:\n",
        "      print(\"-\",K)\n",
        "    print(\"Thnak You for ur Contribute...\")\n",
        "  else:\n",
        "    print(\"Put Correct Categories\")\n",
        "else:\n",
        "  print(\"Contribute next time\")"
      ],
      "execution_count": 23,
      "outputs": [
        {
          "output_type": "stream",
          "text": [
            "Welcome to Shopping App...\n",
            "Catagory of item we have are -  \n",
            " Beverages \n",
            " Bread/Bakery  \n",
            " Canned/Jarred Goods \n",
            " Dairy \n",
            " Dry/Baking Goods \n",
            " Frozen Foods \n",
            " Meat \n",
            " Produce \n",
            " Cleaners \n",
            " Paper Goods \n",
            " Personal Care \n",
            " Other\n",
            "Want to add items to your Shopping List, If Yes type Y or N for No -> Y\n",
            "Which categories of item you want to add in the list -Meat\n",
            "How many Item u want to add -5\n",
            "Enter Your Item you want to add -Chicken\n",
            "Enter Your Item you want to add -Pork\n",
            "Enter Your Item you want to add -Beef\n",
            "Enter Your Item you want to add -Lamp\n",
            "Enter Your Item you want to add -Poultry\n",
            "Item u have add to Meat Categories are :\n",
            "- Beef\n",
            "- Chicken\n",
            "- Lamp\n",
            "- Pork\n",
            "- Poultry\n",
            "Thnak You for ur Contribute...\n"
          ],
          "name": "stdout"
        }
      ]
    },
    {
      "cell_type": "code",
      "metadata": {
        "colab": {
          "base_uri": "https://localhost:8080/"
        },
        "id": "18I2g17vPqOG",
        "outputId": "a3feb73e-149b-4da9-c9fb-9b08bab0202b"
      },
      "source": [
        "# Interactive Guess the Number Game\n",
        "\n",
        "# importing \"random\" for random operations\n",
        "import random\n",
        "\n",
        "G = int(input(\"Guess the Number -\"))\n",
        "\n",
        "R = random.randint(0,10)\n",
        "\n",
        "if R==G:\n",
        "  print(\"Wow Your guess was Right\")\n",
        "else:\n",
        "  print(\"Try Next time\")"
      ],
      "execution_count": 30,
      "outputs": [
        {
          "output_type": "stream",
          "text": [
            "Guess the Number -3\n",
            "Try Next time\n"
          ],
          "name": "stdout"
        }
      ]
    },
    {
      "cell_type": "code",
      "metadata": {
        "id": "a-L5tJ5zTgk_"
      },
      "source": [
        ""
      ],
      "execution_count": null,
      "outputs": []
    }
  ]
}