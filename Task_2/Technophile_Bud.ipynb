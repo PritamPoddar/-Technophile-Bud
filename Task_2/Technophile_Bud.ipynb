{
  "nbformat": 4,
  "nbformat_minor": 0,
  "metadata": {
    "colab": {
      "name": " Technophile Bud",
      "provenance": [],
      "collapsed_sections": []
    },
    "kernelspec": {
      "name": "python3",
      "display_name": "Python 3"
    },
    "language_info": {
      "name": "python"
    }
  },
  "cells": [
    {
      "cell_type": "markdown",
      "metadata": {
        "id": "Z-Sg-8hazMb3"
      },
      "source": [
        "# Technophile Bud\n",
        "\n",
        "## Task 2"
      ]
    },
    {
      "cell_type": "markdown",
      "metadata": {
        "id": "lpHuEDgfO3or"
      },
      "source": [
        "### **Part_A: Pokémon Training Game**\n",
        "\n",
        "**Problem :**\n",
        "\n",
        "You are a Pokémon trainer. Each Pokémon has its own\n",
        "power, described by a positive integer value. As you travel,\n",
        "you watch Pokémon and you catch each of them. After each\n",
        "catch, you have to display maximum and minimum powers of\n",
        "Pokémon caught so far. You must have linear time\n",
        "complexity. So sorting won’t help here. Try having minimum\n",
        "extra space complexity."
      ]
    },
    {
      "cell_type": "code",
      "metadata": {
        "id": "HtTomPRKMVLp",
        "colab": {
          "base_uri": "https://localhost:8080/"
        },
        "outputId": "df69a926-af1b-4eb8-8d12-ddd0ebaf68a1"
      },
      "source": [
        "# python code to train pokemon\n",
        "powers = [3, 8, 9, 7]\n",
        "\n",
        "maxi = 0   \n",
        "mini = 0\n",
        "   \n",
        "for i in powers:\n",
        "    if mini == 0 and maxi == 0:\n",
        "        maxi = powers[0]\n",
        "        mini = powers[0]\n",
        "        print(mini, maxi)\n",
        "    else:\n",
        "        mini = min(mini, i)\n",
        "        maxi = max(maxi, i)\n",
        "        print(mini, maxi)\n",
        "        \n",
        "# Time Complexity is O(N) with Space Complexity O(1)"
      ],
      "execution_count": null,
      "outputs": [
        {
          "output_type": "stream",
          "text": [
            "3 3\n",
            "3 8\n",
            "3 9\n",
            "3 9\n"
          ],
          "name": "stdout"
        }
      ]
    },
    {
      "cell_type": "markdown",
      "metadata": {
        "id": "jAIN366SPJFc"
      },
      "source": [
        "### **Part_B: Mastermind Game**\n",
        "\n",
        "Given the present generation’s acquaintance with gaming\n",
        "and its highly demanded technology, many aspire to pursue\n",
        "the idea of developing and advancing it further. Eventually,\n",
        "everyone starts at the beginning. Mastermind is an old code\u0002breaking game played by two players. The game goes back\n",
        "to the 19th century and can be played with paper and pencil."
      ]
    },
    {
      "cell_type": "markdown",
      "metadata": {
        "id": "UJWx_jKdPmmS"
      },
      "source": [
        "**Rules of the game**\n",
        "\n",
        "Two players play the game against each other; let’s assume\n",
        "Player 1 and Player 2.\n",
        "\n",
        "* Player 1 plays first by setting a multi-digit number.\n",
        "* Player 2 now tries his first attempt at guessing the\n",
        "number.\n",
        "* If Player 2 succeeds in his first attempt (despite odds\n",
        "which are highly unlikely) he wins the game and is\n",
        "crowned Mastermind! If not, then Player 1 hints by\n",
        "revealing which digits or numbers Player 2 got correct.\n",
        "* The game continues till Player 2 eventually is able to\n",
        "guess the number entirely.\n",
        "* Now, Player 2 gets to set the number and Player 1 plays\n",
        "the part of guessing the number.\n",
        "* If Player 1 is able to guess the number within a lesser\n",
        "number of tries than Player 2 took, then Player 1 wins the\n",
        "game and is crowned Mastermind.\n",
        "* If not, then Player 2 wins the game.\n",
        "* The real game, however, has proved aesthetics since the\n",
        "numbers are represented by color-coded buttons."
      ]
    },
    {
      "cell_type": "code",
      "metadata": {
        "colab": {
          "base_uri": "https://localhost:8080/"
        },
        "id": "ZkEmvlXGPl1e",
        "outputId": "f31595ab-1c10-4ae3-de7a-53d30d41d3c5"
      },
      "source": [
        "import random\n",
        "\n",
        "# The .randrange() function generates a random number within the specified range.\n",
        "Number = random.randrange(1000, 10000)\n",
        "\n",
        "Guess_Number = int(input(\"Guess the 4 digit number:\"))\n",
        "\n",
        "# condition to test equality of the\n",
        "# guess made. Program terminates if true.\n",
        "if (Guess_Number == Number):  \n",
        "    print(\"Great! You guessed the number in just 1 try! You're a Mastermind!\")\n",
        "else:\n",
        "    # ctr variable initialized. It will keep count of \n",
        "    # the number of tries the Player takes to guess the number.\n",
        "    ctr = 0  \n",
        "  \n",
        "    # while loop repeats as long as the \n",
        "    # Player fails to guess the number correctly.\n",
        "    while (Guess_Number != Number):  \n",
        "        # variable increments every time the loop\n",
        "        # is executed, giving an idea of how many\n",
        "        # guesses were made.\n",
        "        ctr += 1  \n",
        "  \n",
        "        count = 0\n",
        "  \n",
        "        # explicit type conversion of an integer to\n",
        "        # a string in order to ease extraction of digits\n",
        "        Guess_Number = str(Guess_Number)  \n",
        "  \n",
        "        # explicit type conversion of a string to an integer\n",
        "        Number = str(Number)  \n",
        "  \n",
        "        # correct[] list stores digits which are correct\n",
        "        correct = ['X']*4  \n",
        "  \n",
        "        # for loop runs 4 times since the number has 4 digits.\n",
        "        for i in range(0, 4): \n",
        "  \n",
        "             # checking for equality of digits\n",
        "            if (Guess_Number[i] == Number[i]):  \n",
        "                # number of digits guessed correctly increments\n",
        "                count += 1  \n",
        "                # hence, the digit is stored in correct[].\n",
        "                correct[i] = Guess_Number[i]  \n",
        "            else:\n",
        "                continue\n",
        "  \n",
        "        # when not all the digits are guessed correctly.\n",
        "        if (count < 4) and (count != 0):  \n",
        "            print(\"Not quite the number. But you did get \", count, \" digit(s) correct!\")\n",
        "            print(\"Also these numbers in your input were correct.\")\n",
        "            for k in correct:\n",
        "                print(k, end=' ')\n",
        "            print('\\n')\n",
        "            print('\\n')\n",
        "            Guess_Number = int(input(\"Enter your next choice of numbers: \"))\n",
        "  \n",
        "        # when none of the digits are guessed correctly.\n",
        "        elif (count == 0):  \n",
        "            print(\"None of the numbers in your input match.\")\n",
        "            Guess_Number = int(input(\"Enter your next choice of numbers: \"))\n",
        "  \n",
        "    # condition for equality.\n",
        "    if Guess_Number == Number:  \n",
        "        print(\"You've become a Mastermind!\")\n",
        "        print(\"It took you only\", ctr, \"tries.\")"
      ],
      "execution_count": null,
      "outputs": [
        {
          "output_type": "stream",
          "text": [
            "Guess the 4 digit number:2211\n",
            "Not quite the number. But you did get  1  digit(s) correct!\n",
            "Also these numbers in your input were correct.\n",
            "2 X X X \n",
            "\n",
            "\n",
            "\n",
            "Enter your next choice of numbers: 2111\n",
            "Not quite the number. But you did get  1  digit(s) correct!\n",
            "Also these numbers in your input were correct.\n",
            "2 X X X \n",
            "\n",
            "\n",
            "\n",
            "Enter your next choice of numbers: 2333\n",
            "Not quite the number. But you did get  1  digit(s) correct!\n",
            "Also these numbers in your input were correct.\n",
            "2 X X X \n",
            "\n",
            "\n",
            "\n",
            "Enter your next choice of numbers: 2444\n",
            "Not quite the number. But you did get  1  digit(s) correct!\n",
            "Also these numbers in your input were correct.\n",
            "2 X X X \n",
            "\n",
            "\n",
            "\n",
            "Enter your next choice of numbers: 2134\n",
            "Not quite the number. But you did get  1  digit(s) correct!\n",
            "Also these numbers in your input were correct.\n",
            "2 X X X \n",
            "\n",
            "\n",
            "\n",
            "Enter your next choice of numbers: 2341\n",
            "Not quite the number. But you did get  1  digit(s) correct!\n",
            "Also these numbers in your input were correct.\n",
            "2 X X X \n",
            "\n",
            "\n",
            "\n",
            "Enter your next choice of numbers: 25678\n",
            "Not quite the number. But you did get  2  digit(s) correct!\n",
            "Also these numbers in your input were correct.\n",
            "2 5 X X \n",
            "\n",
            "\n",
            "\n",
            "Enter your next choice of numbers: 2543\n",
            "Not quite the number. But you did get  2  digit(s) correct!\n",
            "Also these numbers in your input were correct.\n",
            "2 5 X X \n",
            "\n",
            "\n",
            "\n",
            "Enter your next choice of numbers: 2589\n",
            "Not quite the number. But you did get  2  digit(s) correct!\n",
            "Also these numbers in your input were correct.\n",
            "2 5 X X \n",
            "\n",
            "\n",
            "\n",
            "Enter your next choice of numbers: 2509\n",
            "Not quite the number. But you did get  2  digit(s) correct!\n",
            "Also these numbers in your input were correct.\n",
            "2 5 X X \n",
            "\n",
            "\n",
            "\n",
            "Enter your next choice of numbers: 2512\n",
            "Not quite the number. But you did get  3  digit(s) correct!\n",
            "Also these numbers in your input were correct.\n",
            "2 5 X 2 \n",
            "\n",
            "\n",
            "\n",
            "Enter your next choice of numbers: 2512\n",
            "Not quite the number. But you did get  3  digit(s) correct!\n",
            "Also these numbers in your input were correct.\n",
            "2 5 X 2 \n",
            "\n",
            "\n",
            "\n",
            "Enter your next choice of numbers: 2522\n",
            "You've become a Mastermind!\n",
            "It took you only 13 tries.\n"
          ],
          "name": "stdout"
        }
      ]
    },
    {
      "cell_type": "code",
      "metadata": {
        "id": "2-geQ-SmQ8Ki"
      },
      "source": [
        ""
      ],
      "execution_count": null,
      "outputs": []
    }
  ]
}