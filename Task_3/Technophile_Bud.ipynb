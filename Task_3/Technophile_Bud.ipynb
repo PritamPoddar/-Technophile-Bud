{
  "nbformat": 4,
  "nbformat_minor": 0,
  "metadata": {
    "colab": {
      "name": "Technophile Bud",
      "provenance": [],
      "collapsed_sections": []
    },
    "kernelspec": {
      "name": "python3",
      "display_name": "Python 3"
    },
    "language_info": {
      "name": "python"
    }
  },
  "cells": [
    {
      "cell_type": "markdown",
      "metadata": {
        "id": "H0dFemPuBfK1"
      },
      "source": [
        "# Technophile Bud\n",
        "## Task 3"
      ]
    },
    {
      "cell_type": "code",
      "metadata": {
        "colab": {
          "base_uri": "https://localhost:8080/"
        },
        "id": "Tw_yMqcTELZo",
        "outputId": "b27a7593-0fde-4afd-e6c1-a341583486e8"
      },
      "source": [
        "# Roman Numbers to Decimal Converter\n",
        "\n",
        "Roman = str(input(\"Enter Roman Number -\"))\n",
        "R_D = {\n",
        "    \"I\": 1,\n",
        "    \"V\": 5,\n",
        "    \"X\": 10,\n",
        "    \"L\": 50,\n",
        "    \"C\": 100,\n",
        "    \"D\": 500,\n",
        "    \"M\": 1000\n",
        "       }\n",
        "\n",
        "Number = 0\n",
        "Roman = Roman.replace(\"IV\", \"IIII\").replace(\"IX\", \"VIIII\")\n",
        "Roman = Roman.replace(\"XL\", \"XXXX\").replace(\"XC\", \"LXXXX\")\n",
        "Roman = Roman.replace(\"CD\", \"CCCC\").replace(\"CM\", \"DCCCC\")\n",
        "for i in Roman:\n",
        "  Number += R_D[i]\n",
        "print(Number)"
      ],
      "execution_count": null,
      "outputs": [
        {
          "output_type": "stream",
          "text": [
            "Enter Roman Number -MDCLXVI\n",
            "1666\n"
          ],
          "name": "stdout"
        }
      ]
    },
    {
      "cell_type": "code",
      "metadata": {
        "colab": {
          "base_uri": "https://localhost:8080/"
        },
        "id": "UNEZmaFto4Wq",
        "outputId": "8e1787e6-082d-4223-bb15-913526797d83"
      },
      "source": [
        "# Roman Numbers to Decimal Converter\n",
        "\n",
        "def romanToInt(s):\n",
        "        translations = {\n",
        "            \"I\": 1,\n",
        "            \"V\": 5,\n",
        "            \"X\": 10,\n",
        "            \"L\": 50,\n",
        "            \"C\": 100,\n",
        "            \"D\": 500,\n",
        "            \"M\": 1000\n",
        "        }\n",
        "        number = 0\n",
        "        s = s.replace(\"IV\", \"IIII\").replace(\"IX\", \"VIIII\")\n",
        "        s = s.replace(\"XL\", \"XXXX\").replace(\"XC\", \"LXXXX\")\n",
        "        s = s.replace(\"CD\", \"CCCC\").replace(\"CM\", \"DCCCC\")\n",
        "        for char in s:\n",
        "            number += translations[char]\n",
        "        print(number)\n",
        "\n",
        "romanToInt(\"XXXM\")"
      ],
      "execution_count": null,
      "outputs": [
        {
          "output_type": "stream",
          "text": [
            "1030\n"
          ],
          "name": "stdout"
        }
      ]
    },
    {
      "cell_type": "code",
      "metadata": {
        "colab": {
          "base_uri": "https://localhost:8080/"
        },
        "id": "N_Sx1fbDEMuP",
        "outputId": "b982b531-0e27-4dbe-be30-b430ea268329"
      },
      "source": [
        "# Roman Numbers to Decimal Converter\n",
        "\n",
        "class py_solution:\n",
        "    def roman_to_int(self, s):\n",
        "        rom_val = {'I': 1, 'V': 5, 'X': 10, 'L': 50, 'C': 100, 'D': 500, 'M': 1000}\n",
        "        int_val = 0\n",
        "        for i in range(len(s)):\n",
        "            if i > 0 and rom_val[s[i]] > rom_val[s[i - 1]]:\n",
        "                int_val += rom_val[s[i]] - 2 * rom_val[s[i - 1]]\n",
        "            else:\n",
        "                int_val += rom_val[s[i]]\n",
        "        return int_val\n",
        "\n",
        "print(py_solution().roman_to_int('MMMCMLXXXVI'))\n",
        "print(py_solution().roman_to_int('MMMM'))\n",
        "print(py_solution().roman_to_int('C'))"
      ],
      "execution_count": null,
      "outputs": [
        {
          "output_type": "stream",
          "text": [
            "3986\n",
            "4000\n",
            "100\n"
          ],
          "name": "stdout"
        }
      ]
    },
    {
      "cell_type": "code",
      "metadata": {
        "colab": {
          "base_uri": "https://localhost:8080/"
        },
        "id": "gZ-74L04BZzJ",
        "outputId": "d548c46c-2b9b-4a22-a314-d8ad871e334a"
      },
      "source": [
        "# 2\n",
        "# BMI Calculator\n",
        "\n",
        "Kg = int(input(\"Enter Your Weight(Kg) -\"))\n",
        "Height = float(input(\"Enter Your Height(Cm) -\"))\n",
        "Height_cm = (Height/100)\n",
        "BMI = Kg/(Height_cm**2)\n",
        "print(\"Your Body Mass Index (BMI) -\",BMI)"
      ],
      "execution_count": null,
      "outputs": [
        {
          "output_type": "stream",
          "text": [
            "Enter Your Weight(Kg) -67\n",
            "Enter Your Height(Cm) -170\n",
            "Your Body Mass Index (BMI) - 23.18339100346021\n"
          ],
          "name": "stdout"
        }
      ]
    }
  ]
}